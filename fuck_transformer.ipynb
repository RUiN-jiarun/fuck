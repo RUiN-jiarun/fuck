{
 "cells": [
  {
   "cell_type": "markdown",
   "metadata": {},
   "source": [
    "# Fuck Transformer"
   ]
  },
  {
   "cell_type": "markdown",
   "metadata": {},
   "source": [
    "下图是一个Transformer基本结构，先把编码器和解码器的理解搞搞懂了。\n",
    "\n",
    "<img src=\"assets/transformer.png\"  width=\"400\" />"
   ]
  },
  {
   "cell_type": "code",
   "execution_count": 1,
   "metadata": {},
   "outputs": [],
   "source": [
    "# set GPU id\n",
    "import os\n",
    "os.environ['CUDA_VISIBLE_DEVICES'] = '2'"
   ]
  },
  {
   "cell_type": "code",
   "execution_count": 4,
   "metadata": {},
   "outputs": [
    {
     "data": {
      "text/plain": [
       "True"
      ]
     },
     "execution_count": 4,
     "metadata": {},
     "output_type": "execute_result"
    }
   ],
   "source": [
    "import torch\n",
    "from torch import nn\n",
    "import torch.nn.functional as F\n",
    "import math\n",
    "torch.cuda.is_available()"
   ]
  },
  {
   "cell_type": "code",
   "execution_count": 5,
   "metadata": {},
   "outputs": [
    {
     "data": {
      "text/plain": [
       "torch.Size([128, 64, 512])"
      ]
     },
     "execution_count": 5,
     "metadata": {},
     "output_type": "execute_result"
    }
   ],
   "source": [
    "X = torch.rand(128, 64, 512)\n",
    "# batch_size, seq_len, hidden_size\n",
    "X.shape"
   ]
  },
  {
   "cell_type": "code",
   "execution_count": 6,
   "metadata": {},
   "outputs": [],
   "source": [
    "d_model = 512   # embedding dimension in qkv space\n",
    "n_heads = 8     # number of heads"
   ]
  },
  {
   "cell_type": "markdown",
   "metadata": {},
   "source": [
    "## Fuck Token Embedding\n",
    "\n",
    "token embedding是将输入的token转换成向量"
   ]
  },
  {
   "cell_type": "code",
   "execution_count": null,
   "metadata": {},
   "outputs": [],
   "source": [
    "class TokenEmbedding(nn.Embedding):\n",
    "    def __init__(self, vocab_size, d_model):\n",
    "        super(TokenEmbedding, self).__init__(vocab_size, d_model, padding_idx=1)"
   ]
  },
  {
   "cell_type": "markdown",
   "metadata": {},
   "source": [
    "## Fuck Positional Encoding\n",
    "$$\n",
    "\\begin{aligned}P E_{(p o s, 2 i)} & =\\sin \\left(\\text { pos } / 10000^{2 i / d_{\\mathrm{model}}}\\right) \\\\P E_{(p o s, 2 i+1)} & =\\cos \\left(p o s / 10000^{2 i / d_{\\mathrm{model}}}\\right)\\end{aligned}\n",
    "$$"
   ]
  },
  {
   "cell_type": "code",
   "execution_count": null,
   "metadata": {},
   "outputs": [],
   "source": [
    "class PositionalEncoding(nn.Module):\n",
    "    def __init__(self, d_model, max_len=5000, device='cuda'):\n",
    "        super(PositionalEncoding, self).__init__()\n",
    "        self.encoding = torch.zeros(max_len, d_model, device)\n",
    "        self.encoding.require_grad = False\n",
    "        \n",
    "        # generate positional encoding\n",
    "        pos = torch.arange(0, max_len, device).float().unsqueeze(1) # 2d tensor (max_len, 1)\n",
    "        _2i = torch.arange(0, d_model, 2, device)\n",
    "        \n",
    "        # even indices (2i)\n",
    "        self.encoding[:, 0::2] = torch.sin(pos / (10000 ** (_2i / d_model)))       \n",
    "        # odd indices (2i+1)\n",
    "        self.encoding[:, 1::2] = torch.cos(pos / (10000 ** (_2i / d_model)))\n",
    "    \n",
    "    def forward(self, x):\n",
    "        # x: (batch_size, seq_len, d_model)\n",
    "        seq_len = x.shape[1]\n",
    "        return self.encoding[:seq_len, :]"
   ]
  },
  {
   "cell_type": "code",
   "execution_count": null,
   "metadata": {},
   "outputs": [],
   "source": [
    "# 可以把两个encoding结合起来~\n",
    "class TransformerEmbedding(nn.Module):\n",
    "    def __init__(self, vocab_size, d_model, max_len, drop_prob, device):\n",
    "        super(TransformerEmbedding, self).__init__()\n",
    "        self.token_embedding = TokenEmbedding(vocab_size, d_model)\n",
    "        self.position_embedding = PositionalEncoding(d_model, max_len, device)\n",
    "        self.dropout = nn.Dropout(drop_prob)\n",
    "\n",
    "    def forward(self, x):\n",
    "        token_embedding = self.token_embedding(x)\n",
    "        pos_embedding = self.position_embedding(x)\n",
    "        return self.dropout(token_embedding + pos_embedding)"
   ]
  },
  {
   "cell_type": "markdown",
   "metadata": {},
   "source": [
    "## Fuck LM\n",
    "\n",
    "图像处理一般用的是BN，但是Transformer用的是LN。一般来说，LN可以减少显存的需求，因为BN需要加载很多batch，而LN则是在通道维度对数据进行归一化。\n",
    "$$\n",
    "\\mu_{\\mathcal B} = \\frac{1}{m}\\sum_{i=1}^{m}x_{i} \\\\\n",
    "\\sigma_{\\mathcal B}^{2} = \\frac{1}{m}\\sum_{i=1}^{m}(x_{i}-\\mu_{\\mathcal B})^{2} \\\\\n",
    "\\hat{x}_{i} = \\frac{x_{i}-\\mu_{\\mathcal B}}{\\sqrt{\\sigma_{\\mathcal B}^{2}+\\epsilon}} \\\\\n",
    "y_{i} = \\gamma \\hat{x}_{i} + \\beta\n",
    "$$"
   ]
  },
  {
   "cell_type": "code",
   "execution_count": null,
   "metadata": {},
   "outputs": [],
   "source": [
    "class LayerNorm(nn.Module):\n",
    "    def __init__(self, d_model, eps=1e-10):\n",
    "        super(LayerNorm, self).__init__()\n",
    "        # learnable params\n",
    "        self.gamma = nn.Parameter(torch.ones(d_model))\n",
    "        self.beta = nn.Parameter(torch.zeros(d_model))\n",
    "        \n",
    "    def forward(self, x):\n",
    "        # mean and variance\n",
    "        mean = x.mean(-1, keepdim=True)\n",
    "        var = x.var(-1, unbiased=False, keepdim=True)\n",
    "        # normalize\n",
    "        x = (x - mean) / torch.sqrt(var + self.eps)\n",
    "        # scale and shift\n",
    "        x = self.gamma * x + self.beta\n",
    "        return x"
   ]
  },
  {
   "cell_type": "markdown",
   "metadata": {},
   "source": [
    "## Fuck FFN\n",
    "\n",
    "$$\n",
    "\\operatorname{FFN}(x, W_1, W_2, b_1, b_2) = \\max(0, x W_1 + b_1) W_2 + b_2\n",
    "$$"
   ]
  },
  {
   "cell_type": "code",
   "execution_count": null,
   "metadata": {},
   "outputs": [],
   "source": [
    "class PositionWiseFeedForward(nn.Module):\n",
    "    def __init__(self, d_model, hidden_dim, dropout=0.1):\n",
    "        self.fc1 = nn.Linear(d_model, hidden_dim)\n",
    "        self.fc2 = nn.Linear(hidden_dim, d_model)\n",
    "        self.dropout = nn.Dropout(dropout)\n",
    "\n",
    "    def forward(self, x):\n",
    "        x = self.fc1(x)\n",
    "        x = F.relu(x)\n",
    "        x = self.dropout(x)\n",
    "        x = self.fc2(x)\n",
    "        return x"
   ]
  },
  {
   "cell_type": "markdown",
   "metadata": {},
   "source": [
    "## Fuck Multi-Head Attention\n",
    "$$ \\text{Attention}(Q,K,V) = \\text{softmax}(\\frac{QK^T}{\\sqrt{d_k}})V $$\n",
    "$$ \\text{MultiHead}(Q,K,V) = \\text{Concat}(\\text{head}_1,\\dots,\\text{head}_h)W^O $$"
   ]
  },
  {
   "cell_type": "code",
   "execution_count": null,
   "metadata": {},
   "outputs": [],
   "source": [
    "class MultiHeadAttention(nn.Module):\n",
    "    def __init__(self, d_model, n_heads):\n",
    "        super(MultiHeadAttention, self).__init__()\n",
    "        \n",
    "        self.d_model = d_model\n",
    "        self.n_heads = n_heads\n",
    "        \n",
    "        # linear projections for qkv\n",
    "        self.w_q = nn.Linear(d_model, d_model)\n",
    "        self.w_k = nn.Linear(d_model, d_model)\n",
    "        self.w_v = nn.Linear(d_model, d_model)\n",
    "        \n",
    "        # multi-head attention need combinational linear projections\n",
    "        self.w_combine = nn.Linear(d_model, d_model)\n",
    "        self.softmax = nn.Softmax(dim=-1)\n",
    "    \n",
    "    def forward(self, q, k, v, mask=None):\n",
    "        batch, seq, dim = q.shape\n",
    "        n_d = self.d_model // self.n_heads\n",
    "        q, k, v = self.w_q(q), self.w_k(k), self.w_v(v)\n",
    "        \n",
    "        # split q, k, v\n",
    "        # note1: basically simply split the last dimension into n_heads\n",
    "        # note2: why permute? head dim cannot be placed at the last dimension, so we need to permute it\n",
    "        q = q.view(batch, seq, self.n_heads, n_d).permute(0, 2, 1, 3)\n",
    "        k = k.view(batch, seq, self.n_heads, n_d).permute(0, 2, 1, 3)    \n",
    "        v = v.view(batch, seq, self.n_heads, n_d).permute(0, 2, 1, 3)\n",
    "        \n",
    "        # attention scores\n",
    "        score = q @ k.transpose(-2, -1) / math.sqrt(n_d)\n",
    "        # apply mask\n",
    "        if mask is not None:\n",
    "            # mask = torch.tril(torch.ones(seq, seq, dtype=torch.bool))\n",
    "            score = score.masked_fill(mask == 0, -1e9)\n",
    "        score = self.softmax(score) @ v\n",
    "        \n",
    "        # combine heads\n",
    "        score = score.permute(0, 2, 1, 3).contiguous().view(batch, seq, dim)\n",
    "        output = self.w_combine(score)\n",
    "        \n",
    "        return output\n",
    "        "
   ]
  },
  {
   "cell_type": "code",
   "execution_count": 9,
   "metadata": {},
   "outputs": [
    {
     "name": "stdout",
     "output_type": "stream",
     "text": [
      "tensor([[[ 0.2861, -0.1101, -0.1069,  ...,  0.0108,  0.1135, -0.0261],\n",
      "         [ 0.3062, -0.0061, -0.0564,  ...,  0.0058,  0.1606, -0.0263],\n",
      "         [ 0.2674,  0.0042, -0.0396,  ..., -0.0093,  0.1470, -0.0329],\n",
      "         ...,\n",
      "         [ 0.2354,  0.0711,  0.0138,  ..., -0.0502,  0.0706, -0.0317],\n",
      "         [ 0.2355,  0.0703,  0.0145,  ..., -0.0496,  0.0719, -0.0338],\n",
      "         [ 0.2348,  0.0689,  0.0163,  ..., -0.0479,  0.0699, -0.0328]],\n",
      "\n",
      "        [[ 0.3113,  0.0644, -0.0197,  ..., -0.0653,  0.0694,  0.0685],\n",
      "         [ 0.2187,  0.0320, -0.0161,  ..., -0.1151,  0.0081,  0.0978],\n",
      "         [ 0.2235, -0.0074,  0.0051,  ..., -0.1105,  0.0440,  0.0430],\n",
      "         ...,\n",
      "         [ 0.2411,  0.0832,  0.0254,  ..., -0.0854,  0.0786, -0.0326],\n",
      "         [ 0.2420,  0.0843,  0.0254,  ..., -0.0897,  0.0798, -0.0304],\n",
      "         [ 0.2403,  0.0845,  0.0270,  ..., -0.0889,  0.0787, -0.0318]],\n",
      "\n",
      "        [[ 0.1825, -0.0087, -0.0757,  ...,  0.0404,  0.0239, -0.0520],\n",
      "         [ 0.2673,  0.1149, -0.0148,  ..., -0.0478,  0.0358, -0.0177],\n",
      "         [ 0.3375,  0.0859,  0.0036,  ..., -0.0089, -0.0265, -0.0226],\n",
      "         ...,\n",
      "         [ 0.2463,  0.0493,  0.0202,  ..., -0.0521,  0.0780, -0.0400],\n",
      "         [ 0.2455,  0.0531,  0.0222,  ..., -0.0520,  0.0772, -0.0408],\n",
      "         [ 0.2459,  0.0527,  0.0209,  ..., -0.0547,  0.0790, -0.0390]],\n",
      "\n",
      "        ...,\n",
      "\n",
      "        [[ 0.2533,  0.1072,  0.0496,  ..., -0.0460,  0.0288, -0.1538],\n",
      "         [ 0.2782,  0.1131,  0.0502,  ..., -0.0475, -0.0199, -0.0907],\n",
      "         [ 0.2885,  0.0871,  0.0321,  ..., -0.0501,  0.0500, -0.0656],\n",
      "         ...,\n",
      "         [ 0.2472,  0.0761,  0.0158,  ..., -0.0532,  0.0806, -0.0297],\n",
      "         [ 0.2459,  0.0787,  0.0178,  ..., -0.0545,  0.0768, -0.0297],\n",
      "         [ 0.2460,  0.0761,  0.0171,  ..., -0.0572,  0.0786, -0.0299]],\n",
      "\n",
      "        [[ 0.2055,  0.1240,  0.1414,  ..., -0.1611,  0.2284, -0.2258],\n",
      "         [ 0.2170,  0.1307,  0.0582,  ..., -0.0635,  0.0825, -0.1403],\n",
      "         [ 0.2679,  0.1308,  0.1246,  ..., -0.0125,  0.1209, -0.1012],\n",
      "         ...,\n",
      "         [ 0.2628,  0.0761,  0.0276,  ..., -0.0459,  0.0941, -0.0344],\n",
      "         [ 0.2625,  0.0732,  0.0279,  ..., -0.0456,  0.0927, -0.0346],\n",
      "         [ 0.2612,  0.0763,  0.0267,  ..., -0.0492,  0.0917, -0.0354]],\n",
      "\n",
      "        [[ 0.2511, -0.0115,  0.0863,  ..., -0.1442,  0.1250, -0.1945],\n",
      "         [ 0.2150,  0.0554,  0.0288,  ..., -0.0252,  0.1374, -0.1208],\n",
      "         [ 0.2223,  0.0874, -0.0220,  ..., -0.0354,  0.1343, -0.0963],\n",
      "         ...,\n",
      "         [ 0.2556,  0.0719,  0.0123,  ..., -0.0676,  0.0785, -0.0282],\n",
      "         [ 0.2564,  0.0710,  0.0111,  ..., -0.0658,  0.0781, -0.0273],\n",
      "         [ 0.2558,  0.0690,  0.0117,  ..., -0.0664,  0.0769, -0.0276]]],\n",
      "       grad_fn=<ViewBackward0>)\n",
      "torch.Size([128, 64, 512])\n"
     ]
    }
   ],
   "source": [
    "attention = MultiHeadAttention(d_model=d_model, n_heads=n_heads)\n",
    "\n",
    "# Test the attention layer\n",
    "output = attention(X, X, X)\n",
    "print(output)\n",
    "print(output.shape)"
   ]
  },
  {
   "cell_type": "markdown",
   "metadata": {},
   "source": [
    "## Fuck Encoder\n",
    "\n",
    "<img src=\"assets/encoder.png\"  width=\"400\" />"
   ]
  },
  {
   "cell_type": "code",
   "execution_count": null,
   "metadata": {},
   "outputs": [],
   "source": [
    "class EncoderLayer(nn.Module):\n",
    "    def __init__(self, d_model, ffn_hidden, n_heads, drop_prob=0.1):\n",
    "        super(EncoderLayer, self).__init__()\n",
    "        self.attention = MultiHeadAttention(d_model, n_heads)\n",
    "        self.norm1 = nn.LayerNorm(d_model)\n",
    "        self.dropout1 = nn.Dropout(drop_prob)\n",
    "        self.ffn = PositionWiseFeedForward(d_model, ffn_hidden, drop_prob)\n",
    "        self.norm2 = nn.LayerNorm(d_model)\n",
    "        self.dropout2 = nn.Dropout(drop_prob)\n",
    "    \n",
    "    def forward(self, x, mask=None):\n",
    "        _x = x \n",
    "        # self attention\n",
    "        x = self.attention(x, x, x, mask)\n",
    "        \n",
    "        # normalization\n",
    "        x = self.dropout1(x)\n",
    "        x = self.norm1(x + _x)\n",
    "        \n",
    "        # position-wise feed-forward\n",
    "        _x = x \n",
    "        x = self.ffn(x)\n",
    "        \n",
    "        # normalization\n",
    "        x = self.dropout2(x)\n",
    "        x = self.norm2(x + _x)\n",
    "        return x"
   ]
  },
  {
   "cell_type": "markdown",
   "metadata": {},
   "source": [
    "## Fuck Decoder\n",
    "\n",
    "<img src=\"assets/decoder.png\"  width=\"400\" />\n",
    "\n",
    "Decoder层和Encoder层的区别：\n",
    "* 带mask的注意力：当前时刻是看不到未来时刻东西的\n",
    "* 交叉注意力：Decoder提供q，Encoder提供k和v"
   ]
  },
  {
   "cell_type": "code",
   "execution_count": null,
   "metadata": {},
   "outputs": [],
   "source": [
    "class DecoderLayer(nn.Module):\n",
    "    def __init__(self, d_model, ffn_hidden, n_heads, drop_prob=0.1):\n",
    "        super(DecoderLayer, self).__init__()\n",
    "        self.self_attn = MultiHeadAttention(d_model, n_heads)\n",
    "        self.norm1 = nn.LayerNorm(d_model)\n",
    "        self.dropout1 = nn.Dropout(drop_prob)\n",
    "        \n",
    "        self.cross_attn = MultiHeadAttention(d_model, n_heads)\n",
    "        self.norm2 = nn.LayerNorm(d_model)\n",
    "        self.dropout2 = nn.Dropout(drop_prob)\n",
    "        \n",
    "        self.ffn = PositionWiseFeedForward(d_model, ffn_hidden, drop_prob)\n",
    "        self.norm3 = nn.LayerNorm(d_model)\n",
    "        self.dropout3 = nn.Dropout(drop_prob)\n",
    "    \n",
    "    def forward(self, dec, enc, t_mask, s_mask):\n",
    "        # dec: 解码器输入\n",
    "        # enc: 编码器输出\n",
    "        # t_mask: 编码器的mask，对padding的掩码，统一句子的长度\n",
    "        # s_mask: 解码器的mask，对未来信息的掩码，当前时刻只能看到之前的词\n",
    "        _x = dec\n",
    "        x = self.self_attn(dec, dec, dec, t_mask)   # 下三角掩码，也就是不希望看到未来的信息\n",
    "        \n",
    "        x = self.dropout1(x)\n",
    "        x = self.norm1(x + _x)\n",
    "        \n",
    "        # 判断编码器是否有值\n",
    "        if enc is not None:\n",
    "            _x = x\n",
    "            x = self.cross_attn(x, enc, enc, s_mask)\n",
    "            x = self.dropout2(x)\n",
    "            x = self.norm2(x + _x)\n",
    "        \n",
    "        _x = x\n",
    "        x = self.ffn(x)\n",
    "        x = self.dropout3(x)\n",
    "        x = self.norm3(x + _x)\n",
    "        \n",
    "        return x"
   ]
  },
  {
   "cell_type": "code",
   "execution_count": null,
   "metadata": {},
   "outputs": [],
   "source": [
    "# 接下来把每个层拼起来\n",
    "class Encoder(nn.Module):\n",
    "    def __init__(\n",
    "        self,\n",
    "        env_voc_size,\n",
    "        max_len,\n",
    "        d_model,\n",
    "        ffn_hidden,\n",
    "        n_head,\n",
    "        n_layer,\n",
    "        drop_prob,\n",
    "        device,\n",
    "    ):\n",
    "        super(Encoder, self).__init__()\n",
    "\n",
    "        self.embedding = TransformerEmbedding(\n",
    "            env_voc_size, d_model, max_len, drop_prob, device\n",
    "        )\n",
    "\n",
    "        self.layers = nn.ModuleList(\n",
    "            [\n",
    "                EncoderLayer(d_model, ffn_hidden, n_head, drop_prob)\n",
    "                for _ in range(n_layer)\n",
    "            ]\n",
    "        )\n",
    "\n",
    "    def forward(self, x, s_mask):\n",
    "        x = self.embedding(x)\n",
    "        for layer in self.layers:\n",
    "            x = layer(x, s_mask)\n",
    "        return x"
   ]
  },
  {
   "cell_type": "code",
   "execution_count": null,
   "metadata": {},
   "outputs": [],
   "source": [
    "class Decoder(nn.Module):\n",
    "    def __init__(\n",
    "        self,\n",
    "        dec_voc_size,\n",
    "        max_len,\n",
    "        d_model,\n",
    "        ffn_hidden,\n",
    "        n_head,\n",
    "        n_layer,\n",
    "        drop_prob,\n",
    "        device,\n",
    "    ):\n",
    "        super(Decoder, self).__init__()\n",
    "\n",
    "        self.embedding = TransformerEmbedding(\n",
    "            dec_voc_size, d_model, max_len, drop_prob, device\n",
    "        )\n",
    "\n",
    "        self.layers = nn.ModuleList(\n",
    "            [\n",
    "                DecoderLayer(d_model, ffn_hidden, n_head, drop_prob)\n",
    "                for _ in range(n_layer)\n",
    "            ]\n",
    "        )\n",
    "\n",
    "        self.fc = nn.Linear(d_model, dec_voc_size)\n",
    "\n",
    "    def forward(self, dec, enc, t_mask, s_mask):\n",
    "        dec = self.embedding(dec)\n",
    "        for layer in self.layers:\n",
    "            dec = layer(dec, enc, t_mask, s_mask)\n",
    "\n",
    "        dec = self.fc(dec)\n",
    "\n",
    "        return dec"
   ]
  },
  {
   "cell_type": "markdown",
   "metadata": {},
   "source": [
    "## Fuck Transformer!"
   ]
  },
  {
   "cell_type": "code",
   "execution_count": null,
   "metadata": {},
   "outputs": [],
   "source": [
    "class Transformer(nn.Module):\n",
    "    def __init__(\n",
    "        self,\n",
    "        src_pad_idx,\n",
    "        trg_pad_idx,\n",
    "        enc_voc_size,\n",
    "        dec_voc_size,\n",
    "        max_len,\n",
    "        d_model,\n",
    "        n_heads,\n",
    "        ffn_hidden,\n",
    "        n_layers,\n",
    "        drop_prob,\n",
    "        device,\n",
    "    ):\n",
    "        super(Transformer, self).__init__()\n",
    "        self.encoder = Encoder(\n",
    "            enc_voc_size,\n",
    "            max_len,\n",
    "            d_model,\n",
    "            ffn_hidden,\n",
    "            n_heads,\n",
    "            n_layers,\n",
    "            drop_prob,\n",
    "            device,\n",
    "        )\n",
    "        self.decoder = Decoder(\n",
    "            dec_voc_size,\n",
    "            max_len,\n",
    "            d_model,\n",
    "            ffn_hidden,\n",
    "            n_heads,\n",
    "            n_layers,\n",
    "            drop_prob,\n",
    "            device,\n",
    "        )\n",
    "\n",
    "        self.src_pad_idx = src_pad_idx\n",
    "        self.trg_pad_idx = trg_pad_idx\n",
    "        self.device = device\n",
    "\n",
    "    # 构建下三角mask\n",
    "    def make_pad_mask(self, q, k, pad_idx_q, pad_idx_k):\n",
    "        len_q, len_k = q.size(1), k.size(1)\n",
    "\n",
    "        # (Batch, Time, len_q, len_k)\n",
    "        q = q.ne(pad_idx_q).unsqueeze(1).unsqueeze(3)\n",
    "        q = q.repeat(1, 1, 1, len_k)\n",
    "\n",
    "        k = k.ne(pad_idx_k).unsqueeze(1).unsqueeze(2)\n",
    "        k = k.repeat(1, 1, len_q, 1)\n",
    "\n",
    "        mask = q & k\n",
    "        return mask\n",
    "\n",
    "    def make_casual_mask(self, q, k):\n",
    "        len_q, len_k = q.size(1), k.size(1)\n",
    "        mask = (\n",
    "            torch.tril(torch.ones(len_q, len_k)).type(torch.BoolTensor).to(self.device)\n",
    "        )\n",
    "        return mask\n",
    "\n",
    "    def forward(self, src, trg):\n",
    "        src_mask = self.make_pad_mask(src, src, self.src_pad_idx, self.src_pad_idx)\n",
    "        trg_mask = self.make_pad_mask(\n",
    "            trg, trg, self.trg_pad_idx, self.trg_pad_idx\n",
    "        ) * self.make_casual_mask(trg, trg)\n",
    "        src_trg_mask = self.make_pad_mask(trg, src, self.trg_pad_idx, self.src_pad_idx)\n",
    "\n",
    "        enc = self.encoder(src, src_mask)\n",
    "        ouput = self.decoder(trg, enc, trg_mask, src_trg_mask)\n",
    "        return ouput"
   ]
  },
  {
   "cell_type": "code",
   "execution_count": null,
   "metadata": {},
   "outputs": [],
   "source": [
    "def initialize_weights(m):\n",
    "    if hasattr(m, 'weight') and m.weight.dim() > 1:\n",
    "        nn.init.xavier_uniform_(m.weight.data)"
   ]
  }
 ],
 "metadata": {
  "kernelspec": {
   "display_name": "base",
   "language": "python",
   "name": "python3"
  },
  "language_info": {
   "codemirror_mode": {
    "name": "ipython",
    "version": 3
   },
   "file_extension": ".py",
   "mimetype": "text/x-python",
   "name": "python",
   "nbconvert_exporter": "python",
   "pygments_lexer": "ipython3",
   "version": "3.9.7"
  }
 },
 "nbformat": 4,
 "nbformat_minor": 2
}
